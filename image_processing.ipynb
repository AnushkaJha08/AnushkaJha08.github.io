{
 "cells": [
  {
   "cell_type": "code",
   "execution_count": 1,
   "id": "024d3254-8fe8-4acc-867c-a6aa658f28a1",
   "metadata": {},
   "outputs": [
    {
     "name": "stdout",
     "output_type": "stream",
     "text": [
      "Database path: C:\\Users\\Admin\\Desktop\\Multimodal\\database\\database\\multimodal_rag.db\n"
     ]
    }
   ],
   "source": [
    "import os\n",
    "import sqlite3\n",
    "import hashlib\n",
    "import json\n",
    "from PIL import Image\n",
    "from transformers import ViTModel, ViTFeatureExtractor\n",
    "import torch\n",
    "from config import db_path"
   ]
  },
  {
   "cell_type": "code",
   "execution_count": 2,
   "id": "d8a48cf1-3620-4f9c-9c0e-32987711fb3e",
   "metadata": {},
   "outputs": [
    {
     "name": "stderr",
     "output_type": "stream",
     "text": [
      "Some weights of the model checkpoint at google/vit-base-patch16-224 were not used when initializing ViTModel: ['classifier.weight', 'classifier.bias']\n",
      "- This IS expected if you are initializing ViTModel from the checkpoint of a model trained on another task or with another architecture (e.g. initializing a BertForSequenceClassification model from a BertForPreTraining model).\n",
      "- This IS NOT expected if you are initializing ViTModel from the checkpoint of a model that you expect to be exactly identical (initializing a BertForSequenceClassification model from a BertForSequenceClassification model).\n",
      "Some weights of ViTModel were not initialized from the model checkpoint at google/vit-base-patch16-224 and are newly initialized: ['vit.pooler.dense.bias', 'vit.pooler.dense.weight']\n",
      "You should probably TRAIN this model on a down-stream task to be able to use it for predictions and inference.\n",
      "C:\\Users\\Admin\\.conda\\envs\\Minorproject_Multimodal\\Lib\\site-packages\\transformers\\models\\vit\\feature_extraction_vit.py:28: FutureWarning: The class ViTFeatureExtractor is deprecated and will be removed in version 5 of Transformers. Please use ViTImageProcessor instead.\n",
      "  warnings.warn(\n"
     ]
    }
   ],
   "source": [
    "model = ViTModel.from_pretrained('google/vit-base-patch16-224')\n",
    "processor = ViTFeatureExtractor.from_pretrained('google/vit-base-patch16-224')"
   ]
  },
  {
   "cell_type": "code",
   "execution_count": 3,
   "id": "7ee47e77-9d47-4f1c-b3d0-f775b3893f1b",
   "metadata": {},
   "outputs": [],
   "source": [
    "image_dir = os.path.join('input', 'images')\n",
    "os.makedirs(image_dir, exist_ok=True) "
   ]
  },
  {
   "cell_type": "code",
   "execution_count": 4,
   "id": "f160ddf9-10a4-4327-8fcd-7980cc3604e9",
   "metadata": {},
   "outputs": [],
   "source": [
    "conn = sqlite3.connect(db_path)"
   ]
  },
  {
   "cell_type": "code",
   "execution_count": 5,
   "id": "c877cc70-40e9-4f52-9c33-e4f383ba2cd3",
   "metadata": {},
   "outputs": [
    {
     "name": "stdout",
     "output_type": "stream",
     "text": [
      "Image already processed: beach.jpg\n",
      "Image already processed: cat.jpg\n",
      "Image already processed: dog.jpg\n",
      "Image already processed: spiderman.jpg\n",
      "Image already processed: sunset.jpg\n"
     ]
    }
   ],
   "source": [
    "for filename in os.listdir('input/images'):\n",
    "    image_path = os.path.join('input/images', filename)\n",
    "    \n",
    "    # Skip non-image files\n",
    "    if not filename.lower().endswith(('.png', '.jpg', '.jpeg')):\n",
    "        print(f\"Skipping non-image file: {filename}\")\n",
    "        continue\n",
    "    \n",
    "    try:\n",
    "        # Generate content hash to avoid duplicates\n",
    "        with open(image_path, \"rb\") as f:\n",
    "            content_hash = hashlib.sha256(f.read()).hexdigest()\n",
    "        \n",
    "        # Check if image already exists in database\n",
    "        cursor = conn.cursor()\n",
    "        cursor.execute('SELECT id FROM embeddings WHERE content_hash = ?', (content_hash,))\n",
    "        if cursor.fetchone():\n",
    "            print(f\"Image already processed: {filename}\")\n",
    "            continue\n",
    "        \n",
    "        # Process image\n",
    "        img = Image.open(image_path)\n",
    "        inputs = processor(images=img, return_tensors=\"pt\")\n",
    "        with torch.no_grad():\n",
    "            embedding = model(**inputs).last_hidden_state.mean(dim=1).numpy()\n",
    "        # Ensure embedding matches expected dimension\n",
    "        if embedding.shape[1] != expected_dimension:\n",
    "            raise ValueError(f\"Embedding dimension mismatch: {embedding.shape[1]} != {expected_dimension}\")\n",
    "                \n",
    "        # Insert into database\n",
    "        conn.execute('''\n",
    "            INSERT INTO embeddings (modality, content_hash, embedding, metadata)\n",
    "            VALUES (?, ?, ?, ?)\n",
    "        ''', ('image', content_hash, embedding.tobytes(), json.dumps({\n",
    "            \"filename\": filename,\n",
    "            \"path\": image_path,\n",
    "            \"dimensions\": img.size\n",
    "        })))\n",
    "        \n",
    "        print(f\"Processed and stored: {filename}\")\n",
    "    \n",
    "    except Exception as e:\n",
    "        print(f\"Error processing {filename}: {str(e)}\")\n"
   ]
  },
  {
   "cell_type": "code",
   "execution_count": 6,
   "id": "0a4c8522-fd36-4110-8d31-2a17d265acf8",
   "metadata": {},
   "outputs": [
    {
     "name": "stdout",
     "output_type": "stream",
     "text": [
      "Image processing complete!\n"
     ]
    }
   ],
   "source": [
    "conn.commit()\n",
    "conn.close()\n",
    "print(\"Image processing complete!\")"
   ]
  },
  {
   "cell_type": "code",
   "execution_count": null,
   "id": "74231ddd-e0f0-47d1-b321-c2aea193fc65",
   "metadata": {},
   "outputs": [],
   "source": []
  }
 ],
 "metadata": {
  "kernelspec": {
   "display_name": "Python 3 (ipykernel)",
   "language": "python",
   "name": "python3"
  },
  "language_info": {
   "codemirror_mode": {
    "name": "ipython",
    "version": 3
   },
   "file_extension": ".py",
   "mimetype": "text/x-python",
   "name": "python",
   "nbconvert_exporter": "python",
   "pygments_lexer": "ipython3",
   "version": "3.11.11"
  }
 },
 "nbformat": 4,
 "nbformat_minor": 5
}
