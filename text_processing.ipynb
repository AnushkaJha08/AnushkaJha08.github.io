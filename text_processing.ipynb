{
 "cells": [
  {
   "cell_type": "code",
   "execution_count": 1,
   "id": "d3e4f564-5226-4b85-baa7-293105435d97",
   "metadata": {},
   "outputs": [
    {
     "name": "stdout",
     "output_type": "stream",
     "text": [
      "Database path: C:\\Users\\Admin\\Desktop\\Multimodal\\database\\database\\multimodal_rag.db\n"
     ]
    }
   ],
   "source": [
    "from sentence_transformers import SentenceTransformer\n",
    "import sqlite3\n",
    "import hashlib\n",
    "import json\n",
    "from config import db_path\n"
   ]
  },
  {
   "cell_type": "code",
   "execution_count": 2,
   "id": "4b6578c1-df37-46c3-94f7-d7733d07ad46",
   "metadata": {},
   "outputs": [],
   "source": [
    "model = SentenceTransformer('all-mpnet-base-v2')\n",
    "texts = [\"Artificial Intelligence is the simulation of human intelligence in machines\", \"The capital of France is Paris.\"] "
   ]
  },
  {
   "cell_type": "code",
   "execution_count": 3,
   "id": "44cf5340-491c-4dc8-a276-0a8bd131b445",
   "metadata": {},
   "outputs": [],
   "source": [
    "conn = sqlite3.connect(db_path)"
   ]
  },
  {
   "cell_type": "code",
   "execution_count": 4,
   "id": "a37bcb1a-656c-45c2-8a31-d362c8f2cbee",
   "metadata": {},
   "outputs": [],
   "source": [
    "for text in texts:\n",
    "    embedding = model.encode(text)\n",
    "    content_hash = hashlib.sha256(text.encode()).hexdigest()\n",
    "    \n",
    "    conn.execute('''\n",
    "        INSERT INTO embeddings (modality, content_hash, embedding, metadata)\n",
    "        VALUES (?, ?, ?, ?)\n",
    "        ON CONFLICT(content_hash) DO UPDATE SET\n",
    "            embedding = excluded.embedding,\n",
    "            metadata = excluded.metadata,\n",
    "            version = version + 1\n",
    "    ''', ('text', content_hash, embedding.tobytes(), json.dumps({\"content\": text})))"
   ]
  },
  {
   "cell_type": "code",
   "execution_count": 5,
   "id": "67ceb66e-6c79-4e0d-9db1-bb3a5c58e33c",
   "metadata": {},
   "outputs": [
    {
     "name": "stdout",
     "output_type": "stream",
     "text": [
      "Text processing complete!\n"
     ]
    }
   ],
   "source": [
    "conn.commit()\n",
    "conn.close()\n",
    "print(\"Text processing complete!\")"
   ]
  },
  {
   "cell_type": "code",
   "execution_count": null,
   "id": "35b69875-1a39-4f73-8181-722977b98d41",
   "metadata": {},
   "outputs": [],
   "source": []
  }
 ],
 "metadata": {
  "kernelspec": {
   "display_name": "Python 3 (ipykernel)",
   "language": "python",
   "name": "python3"
  },
  "language_info": {
   "codemirror_mode": {
    "name": "ipython",
    "version": 3
   },
   "file_extension": ".py",
   "mimetype": "text/x-python",
   "name": "python",
   "nbconvert_exporter": "python",
   "pygments_lexer": "ipython3",
   "version": "3.11.11"
  }
 },
 "nbformat": 4,
 "nbformat_minor": 5
}
