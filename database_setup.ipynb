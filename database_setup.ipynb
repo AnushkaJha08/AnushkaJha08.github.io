{
 "cells": [
  {
   "cell_type": "code",
   "execution_count": 1,
   "id": "fa791384-45d4-4e3e-84ce-ba5d3fcabbd1",
   "metadata": {},
   "outputs": [
    {
     "name": "stdout",
     "output_type": "stream",
     "text": [
      "Database path: C:\\Users\\Admin\\Desktop\\Multimodal\\database\\database\\multimodal_rag.db\n"
     ]
    }
   ],
   "source": [
    "import sqlite3\n",
    "from config import db_path"
   ]
  },
  {
   "cell_type": "code",
   "execution_count": 2,
   "id": "988aa387-44d4-497f-9125-fef338b82900",
   "metadata": {},
   "outputs": [],
   "source": [
    "conn = sqlite3.connect(db_path)\n",
    "cursor = conn.cursor()"
   ]
  },
  {
   "cell_type": "code",
   "execution_count": 3,
   "id": "a3d85e4d-affe-4499-94b5-129badce983b",
   "metadata": {},
   "outputs": [
    {
     "data": {
      "text/plain": [
       "<sqlite3.Cursor at 0x1d8cb7236c0>"
      ]
     },
     "execution_count": 3,
     "metadata": {},
     "output_type": "execute_result"
    }
   ],
   "source": [
    "cursor.execute('''\n",
    "CREATE TABLE IF NOT EXISTS videos (\n",
    "    id INTEGER PRIMARY KEY AUTOINCREMENT,\n",
    "    video_path TEXT UNIQUE,\n",
    "    duration REAL,\n",
    "    resolution TEXT\n",
    ")\n",
    "''')\n"
   ]
  },
  {
   "cell_type": "code",
   "execution_count": 4,
   "id": "a3bc3aba-02e0-4e56-8b33-a1bc95d0b248",
   "metadata": {},
   "outputs": [
    {
     "data": {
      "text/plain": [
       "<sqlite3.Cursor at 0x1d8cb7236c0>"
      ]
     },
     "execution_count": 4,
     "metadata": {},
     "output_type": "execute_result"
    }
   ],
   "source": [
    "cursor.execute('''\n",
    "CREATE TABLE IF NOT EXISTS frames (\n",
    "    id INTEGER PRIMARY KEY AUTOINCREMENT,\n",
    "    video_id INTEGER,\n",
    "    frame_path TEXT UNIQUE,\n",
    "    timestamp REAL,\n",
    "    FOREIGN KEY(video_id) REFERENCES videos(id)\n",
    ")\n",
    "''')"
   ]
  },
  {
   "cell_type": "code",
   "execution_count": 5,
   "id": "24f124b6-4ab5-45ce-bd6d-adbf82f7f286",
   "metadata": {},
   "outputs": [
    {
     "data": {
      "text/plain": [
       "<sqlite3.Cursor at 0x1d8cb7236c0>"
      ]
     },
     "execution_count": 5,
     "metadata": {},
     "output_type": "execute_result"
    }
   ],
   "source": [
    "cursor.execute('''\n",
    "CREATE TABLE IF NOT EXISTS captions (\n",
    "    frame_id INTEGER,\n",
    "    caption TEXT,\n",
    "    embedding BLOB,\n",
    "    FOREIGN KEY(frame_id) REFERENCES frames(id)\n",
    ")\n",
    "''')\n"
   ]
  },
  {
   "cell_type": "code",
   "execution_count": 6,
   "id": "bbcf384f-917b-4305-888c-3736b91a3b2e",
   "metadata": {},
   "outputs": [],
   "source": [
    "conn.commit()\n",
    "conn.close()"
   ]
  },
  {
   "cell_type": "code",
   "execution_count": null,
   "id": "2ff89274-a822-4b13-86d8-ea7665eabdb4",
   "metadata": {},
   "outputs": [],
   "source": []
  }
 ],
 "metadata": {
  "kernelspec": {
   "display_name": "Python 3 (ipykernel)",
   "language": "python",
   "name": "python3"
  },
  "language_info": {
   "codemirror_mode": {
    "name": "ipython",
    "version": 3
   },
   "file_extension": ".py",
   "mimetype": "text/x-python",
   "name": "python",
   "nbconvert_exporter": "python",
   "pygments_lexer": "ipython3",
   "version": "3.11.11"
  }
 },
 "nbformat": 4,
 "nbformat_minor": 5
}
